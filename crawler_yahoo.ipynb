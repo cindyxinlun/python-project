{
 "cells": [
  {
   "cell_type": "code",
   "execution_count": null,
   "metadata": {},
   "outputs": [],
   "source": [
    "from selenium import webdriver\n",
    "import time\n",
    "import json\n",
    "\n",
    "\n",
    "chrome_path = \"C:/selenium_driver_chrome/chromedriver.exe\" #chromedriver.exe執行檔所存在的路徑\n",
    "driver=webdriver.Chrome(chrome_path) # 初始化一個driver，並且指定chromedriver的路徑\n",
    "driver.get(\"https://tw.news.yahoo.com/finance\") # 請求網頁\n",
    "\n",
    "driver.execute_script('window.scrollTo(0, document.body.scrollHeight)')\n",
    "links=driver.find_elements_by_xpath('//*[@id=\"YDC-Stream\"]/ul/li/div/div/div/h3/a')\n",
    "length=len(links)\n",
    "articles=[]\n",
    "\n",
    "for i in range(0,length):   #遍歷列表的循環，使程序可以逐一點擊\n",
    "    time.sleep(3) #等三秒\n",
    "    links=driver.find_elements_by_xpath('//*[@id=\"YDC-Stream\"]/ul/li/div/div/div/h3/a')\n",
    "    url=links[i].get_attribute('href')  #提取a標籤內的鏈接，注意這裏提取出來的鏈接是字符串\n",
    "    strings = url[:29]\n",
    "    if('https://beap.gemini.yahoo.com' == strings or 'https://tw.news.yahoo.com/vid' == strings):  #如果是廣告網址就跳下一個\n",
    "        continue\n",
    "    else:\n",
    "        driver.get(url)         #不能用click，因爲click點擊字符串沒用，直接用瀏覽器打開網址即可\n",
    "        title=driver.find_element_by_xpath('//*[@id=\"Col1-1-HeadComponentTitle\"]/h1').text\n",
    "        content=driver.find_element_by_xpath('//*[@id=\"Col1-3-ContentCanvas\"]/article/div').text       \n",
    "        print(title)\n",
    "        print(content.replace(\"\\n\",\"\").replace(\"\\r\",\"\"))\n",
    "        times=driver.find_element_by_xpath('//*[@id=\"Col1-2-HeadComponentAttribution\"]/div[2]/div[2]/time').text \n",
    "        print(times)\n",
    "        print(\"\\n\")\n",
    "        driver.back()\n",
    "        \n",
    "    articles.append({\n",
    "        'title': title,\n",
    "        'content':content,\n",
    "        'times': times\n",
    "    })\n",
    "    \n",
    "    with open('yahoo.json','w',encoding= 'utf-8') as f:\n",
    "        json.dump(articles,f,indent=2,ensure_ascii=False)\n",
    "driver.quit()"
   ]
  }
 ],
 "metadata": {
  "kernelspec": {
   "display_name": "Python 3",
   "language": "python",
   "name": "python3"
  },
  "language_info": {
   "codemirror_mode": {
    "name": "ipython",
    "version": 3
   },
   "file_extension": ".py",
   "mimetype": "text/x-python",
   "name": "python",
   "nbconvert_exporter": "python",
   "pygments_lexer": "ipython3",
   "version": "3.6.7"
  }
 },
 "nbformat": 4,
 "nbformat_minor": 2
}
