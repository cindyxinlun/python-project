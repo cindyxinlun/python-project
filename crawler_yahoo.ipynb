{
 "cells": [
  {
   "cell_type": "code",
   "execution_count": 15,
   "metadata": {},
   "outputs": [
    {
     "name": "stdout",
     "output_type": "stream",
     "text": [
      "影／人潮塞爆！炒一鍋辣椒餵「肉圓惡爸」 直播破9萬人\n",
      "新北市蘆洲「肉圓惡爸」林姓男子，昨（ 12 ）日晚間因孩子幫他買晚餐時「肉圓沒加辣」，酒後竟一氣之下暴打母子 2 人，不僅賞巴掌還勒脖子拖行數公尺，惡劣行徑全被錄下，引發全民公憤。稍早，有網友搜出林男住處，炒了一鍋辣椒上前聲稱要請林男吃，一開直播就突破 9 萬人觀看，甚至引來警方到場關切。▲不爽肉圓沒加辣！惡男「掌摑暴打」母子，遭網友痛毆。（圖／翻攝自爆料公社）據了解，有網友看了影片後，今（ 13 ）日晚間號召另外 6 名當地民眾循線找到林男住處，一見到對方便遞辣椒、賞巴掌，甚至將人痛毆至送醫。消息一出，隨即吸引更多網友到場「堵人」，還有網友炒了一大盤辣椒和肉圓，開直播聲稱要請林男吃，一度突破 9 萬人在線觀看。警方於晚間 11 時到場關切，副分局長在第一時間將整鍋紅通通的辣椒端走，並表示「我也很生氣，但不會把辣椒鍋倒掉」，並承諾一定將林男帶回派出所偵辦，希望大家給警方時間，還給社區一個安寧。▲警方到場將整鍋辣椒端走，承諾一定將人帶回偵辦。（圖／翻攝自臉書）更多 NOWnews 今日新聞報導吳音寧2.0？口譯哥「坐領高薪」惹議 網曝：天高皇帝遠江蘇再現非洲豬瘟！ 近6萬9000頭活豬遭全面撲殺\n",
      "2019年1月14日 上午12:49\n",
      "https://tw.news.yahoo.com/%E5%BD%B1-%E4%BA%BA%E6%BD%AE%E5%A1%9E%E7%88%86-%E7%82%92-%E9%8D%8B%E8%BE%A3%E6%A4%92%E9%A4%B5-%E8%82%89%E5%9C%93%E6%83%A1%E7%88%B8-164925572.html\n",
      "\n",
      "\n",
      "快訊／新北中和大停電 台電人員搶修中\n",
      "新北市中和在晚間十一點多，突然無預警大停電，包括中正路、圓通路、連勝街等等，都是一片漆黑一片，目前電力公司已經前往搶修。台電解釋，今(13)日晚上22時53分新北市中和區停電事故,影響中和區四维街、忠孝街等一帶 4929戶，經查為饋線設備故障引起，已全力搶修中，對於停電造成用戶不便，深感抱歉，預計恢復供電時間為14日0時50分。（民視新聞網報導）\n",
      "2019年1月14日 上午12:21\n",
      "https://tw.news.yahoo.com/%E5%BF%AB%E8%A8%8A-%E6%96%B0%E5%8C%97%E4%B8%AD%E5%92%8C%E5%A4%A7%E5%81%9C%E9%9B%BB-%E5%8F%B0%E9%9B%BB%E4%BA%BA%E5%93%A1%E6%90%B6%E4%BF%AE%E4%B8%AD-153044332.html\n",
      "\n",
      "\n",
      "小咖啡店搶灘黑金商機 星巴克也畏懼\n",
      "記者蔡佩蓉／台北報導看好咖啡「黑金」商機，日前台灣本土咖啡品牌咖碼（cama café）完成IPO簽約儀式，正式啟動上市櫃輔導計畫。由於咖碼獨樹一格的現烘咖啡型態，提供消費者新鮮咖啡的現烘連鎖品牌，也創造了年均成長20％的銷售佳績，正式邁向IPO之路。▲本土咖啡連鎖品牌啟動IPO計畫。（圖／翻攝自cama現烘咖啡專門店臉書）作為咖碼IPO的主辦券商，國泰證券董事長莊順裕表示，台灣人愛喝咖啡，且咖啡的消費需求和飲用行為也持續改變中，消費者對於原味黑咖啡的喜好與日俱增。2018年咖碼強化內部管理，工廠取得HACCP與ISO22000的認證，並且貫徹內稽內控流程管理、整合資訊串接門市POS與後勤ERP的正確性與流暢度；此外，2018年第3季底正式推出cama café App，1個月內便成功湧進逾10萬名會員。咖碼以「自在、生活」、「分享、享受」的理念，日前已經啟動上市櫃輔導模式，將持續強化體質，面對未來國際間更多的競爭。更多三立新聞網報導曾是貴婦最愛的台北精品一條街「全倒光」連商圈都被除名建商好朋友壽險 滿手現金捧5兆想獵樓投胎不能選擇勝文住帝寶 但房子「這樣買下去」一定能致富心臟不給力、股票不能炒短線 懶人適合這樣買\n",
      "2019年1月14日 上午12:15\n",
      "https://tw.news.yahoo.com/%E5%B0%8F%E5%92%96%E5%95%A1%E5%BA%97%E6%90%B6%E7%81%98%E9%BB%91%E9%87%91%E5%95%86%E6%A9%9F-%E6%98%9F%E5%B7%B4%E5%85%8B%E4%B9%9F%E7%95%8F%E6%87%BC-161553582.html\n",
      "\n",
      "\n",
      "華爾街日報：白宮要求提供攻擊伊朗選項\n",
      "（路透華盛頓13日電）華爾街日報（WSJ）今天報導，和伊朗結盟的一群好戰分子去年9月發射迫擊砲攻擊美國大使館所在的巴格達外交使館區後，白宮國安團隊去年秋天要求國防部提供攻擊伊朗的選項。報導引述現任與前任美國官員的話指出，國家安全會議（National Security Council）提出的這項要求，在國防部與國務院官員之間引發強烈關切。國防部遵從這項要求，但不清楚攻擊伊朗的選項是否已提供給白宮，也不清楚美國總統川普是否知情。報導中指出，去年9月3發迫擊砲擊中巴格達外交使館區後，促使白宮國安團隊要求國防部提供攻擊伊朗的選項。3發迫擊砲擊中空曠地帶，並未造成任何人員傷亡。美國國務卿蓬佩奧（Mike Pompeo）被記者詢及這項報導時，拒絕發表評論。國務院發言人也拒絕發表評論。國家安全會議發言人馬奇斯（Garrett Marquis）今天發表聲明說，「國家安全會議協調政策，並且提供總統選項，以便總統預做準備以及回應各種不同威脅」，國家安全會議在攻擊事件後將會繼續「通盤考量各種選項」。中央社（翻譯）\n",
      "2019年1月14日 上午12:01\n",
      "https://tw.news.yahoo.com/%E8%8F%AF%E7%88%BE%E8%A1%97%E6%97%A5%E5%A0%B1-%E7%99%BD%E5%AE%AE%E8%A6%81%E6%B1%82%E6%8F%90%E4%BE%9B%E6%94%BB%E6%93%8A%E4%BC%8A%E6%9C%97%E9%81%B8%E9%A0%85-160117450.html\n",
      "\n",
      "\n"
     ]
    },
    {
     "ename": "WebDriverException",
     "evalue": "Message: chrome not reachable\n  (Session info: chrome=71.0.3578.98)\n  (Driver info: chromedriver=2.45.615291 (ec3682e3c9061c10f26ea9e5cdcf3c53f3f74387),platform=Windows NT 10.0.17134 x86_64)\n",
     "output_type": "error",
     "traceback": [
      "\u001b[1;31m---------------------------------------------------------------------------\u001b[0m",
      "\u001b[1;31mWebDriverException\u001b[0m                        Traceback (most recent call last)",
      "\u001b[1;32m<ipython-input-15-e5469a66ad96>\u001b[0m in \u001b[0;36m<module>\u001b[1;34m\u001b[0m\n\u001b[0;32m     15\u001b[0m \u001b[1;32mfor\u001b[0m \u001b[0mi\u001b[0m \u001b[1;32min\u001b[0m \u001b[0mrange\u001b[0m\u001b[1;33m(\u001b[0m\u001b[1;36m0\u001b[0m\u001b[1;33m,\u001b[0m\u001b[0mlength\u001b[0m\u001b[1;33m)\u001b[0m\u001b[1;33m:\u001b[0m   \u001b[1;31m#遍歷列表的循環，使程序可以逐一點擊\u001b[0m\u001b[1;33m\u001b[0m\u001b[1;33m\u001b[0m\u001b[0m\n\u001b[0;32m     16\u001b[0m     \u001b[0mtime\u001b[0m\u001b[1;33m.\u001b[0m\u001b[0msleep\u001b[0m\u001b[1;33m(\u001b[0m\u001b[1;36m3\u001b[0m\u001b[1;33m)\u001b[0m \u001b[1;31m#等三秒\u001b[0m\u001b[1;33m\u001b[0m\u001b[1;33m\u001b[0m\u001b[0m\n\u001b[1;32m---> 17\u001b[1;33m     \u001b[0mlinks\u001b[0m\u001b[1;33m=\u001b[0m\u001b[0mdriver\u001b[0m\u001b[1;33m.\u001b[0m\u001b[0mfind_elements_by_xpath\u001b[0m\u001b[1;33m(\u001b[0m\u001b[1;34m'//*[@id=\"YDC-Stream\"]/ul/li/div/div/div/h3/a'\u001b[0m\u001b[1;33m)\u001b[0m\u001b[1;33m\u001b[0m\u001b[1;33m\u001b[0m\u001b[0m\n\u001b[0m\u001b[0;32m     18\u001b[0m     \u001b[0murl\u001b[0m\u001b[1;33m=\u001b[0m\u001b[0mlinks\u001b[0m\u001b[1;33m[\u001b[0m\u001b[0mi\u001b[0m\u001b[1;33m]\u001b[0m\u001b[1;33m.\u001b[0m\u001b[0mget_attribute\u001b[0m\u001b[1;33m(\u001b[0m\u001b[1;34m'href'\u001b[0m\u001b[1;33m)\u001b[0m  \u001b[1;31m#提取a標籤內的鏈接，注意這裏提取出來的鏈接是字符串\u001b[0m\u001b[1;33m\u001b[0m\u001b[1;33m\u001b[0m\u001b[0m\n\u001b[0;32m     19\u001b[0m     \u001b[0mstrings\u001b[0m \u001b[1;33m=\u001b[0m \u001b[0murl\u001b[0m\u001b[1;33m[\u001b[0m\u001b[1;33m:\u001b[0m\u001b[1;36m29\u001b[0m\u001b[1;33m]\u001b[0m\u001b[1;33m\u001b[0m\u001b[1;33m\u001b[0m\u001b[0m\n",
      "\u001b[1;32m~\\Anaconda3\\lib\\site-packages\\selenium\\webdriver\\remote\\webdriver.py\u001b[0m in \u001b[0;36mfind_elements_by_xpath\u001b[1;34m(self, xpath)\u001b[0m\n\u001b[0;32m    408\u001b[0m             \u001b[0melements\u001b[0m \u001b[1;33m=\u001b[0m \u001b[0mdriver\u001b[0m\u001b[1;33m.\u001b[0m\u001b[0mfind_elements_by_xpath\u001b[0m\u001b[1;33m(\u001b[0m\u001b[1;34m\"//div[contains(@class, 'foo')]\"\u001b[0m\u001b[1;33m)\u001b[0m\u001b[1;33m\u001b[0m\u001b[1;33m\u001b[0m\u001b[0m\n\u001b[0;32m    409\u001b[0m         \"\"\"\n\u001b[1;32m--> 410\u001b[1;33m         \u001b[1;32mreturn\u001b[0m \u001b[0mself\u001b[0m\u001b[1;33m.\u001b[0m\u001b[0mfind_elements\u001b[0m\u001b[1;33m(\u001b[0m\u001b[0mby\u001b[0m\u001b[1;33m=\u001b[0m\u001b[0mBy\u001b[0m\u001b[1;33m.\u001b[0m\u001b[0mXPATH\u001b[0m\u001b[1;33m,\u001b[0m \u001b[0mvalue\u001b[0m\u001b[1;33m=\u001b[0m\u001b[0mxpath\u001b[0m\u001b[1;33m)\u001b[0m\u001b[1;33m\u001b[0m\u001b[1;33m\u001b[0m\u001b[0m\n\u001b[0m\u001b[0;32m    411\u001b[0m \u001b[1;33m\u001b[0m\u001b[0m\n\u001b[0;32m    412\u001b[0m     \u001b[1;32mdef\u001b[0m \u001b[0mfind_element_by_link_text\u001b[0m\u001b[1;33m(\u001b[0m\u001b[0mself\u001b[0m\u001b[1;33m,\u001b[0m \u001b[0mlink_text\u001b[0m\u001b[1;33m)\u001b[0m\u001b[1;33m:\u001b[0m\u001b[1;33m\u001b[0m\u001b[1;33m\u001b[0m\u001b[0m\n",
      "\u001b[1;32m~\\Anaconda3\\lib\\site-packages\\selenium\\webdriver\\remote\\webdriver.py\u001b[0m in \u001b[0;36mfind_elements\u001b[1;34m(self, by, value)\u001b[0m\n\u001b[0;32m   1005\u001b[0m         return self.execute(Command.FIND_ELEMENTS, {\n\u001b[0;32m   1006\u001b[0m             \u001b[1;34m'using'\u001b[0m\u001b[1;33m:\u001b[0m \u001b[0mby\u001b[0m\u001b[1;33m,\u001b[0m\u001b[1;33m\u001b[0m\u001b[1;33m\u001b[0m\u001b[0m\n\u001b[1;32m-> 1007\u001b[1;33m             'value': value})['value'] or []\n\u001b[0m\u001b[0;32m   1008\u001b[0m \u001b[1;33m\u001b[0m\u001b[0m\n\u001b[0;32m   1009\u001b[0m     \u001b[1;33m@\u001b[0m\u001b[0mproperty\u001b[0m\u001b[1;33m\u001b[0m\u001b[1;33m\u001b[0m\u001b[0m\n",
      "\u001b[1;32m~\\Anaconda3\\lib\\site-packages\\selenium\\webdriver\\remote\\webdriver.py\u001b[0m in \u001b[0;36mexecute\u001b[1;34m(self, driver_command, params)\u001b[0m\n\u001b[0;32m    319\u001b[0m         \u001b[0mresponse\u001b[0m \u001b[1;33m=\u001b[0m \u001b[0mself\u001b[0m\u001b[1;33m.\u001b[0m\u001b[0mcommand_executor\u001b[0m\u001b[1;33m.\u001b[0m\u001b[0mexecute\u001b[0m\u001b[1;33m(\u001b[0m\u001b[0mdriver_command\u001b[0m\u001b[1;33m,\u001b[0m \u001b[0mparams\u001b[0m\u001b[1;33m)\u001b[0m\u001b[1;33m\u001b[0m\u001b[1;33m\u001b[0m\u001b[0m\n\u001b[0;32m    320\u001b[0m         \u001b[1;32mif\u001b[0m \u001b[0mresponse\u001b[0m\u001b[1;33m:\u001b[0m\u001b[1;33m\u001b[0m\u001b[1;33m\u001b[0m\u001b[0m\n\u001b[1;32m--> 321\u001b[1;33m             \u001b[0mself\u001b[0m\u001b[1;33m.\u001b[0m\u001b[0merror_handler\u001b[0m\u001b[1;33m.\u001b[0m\u001b[0mcheck_response\u001b[0m\u001b[1;33m(\u001b[0m\u001b[0mresponse\u001b[0m\u001b[1;33m)\u001b[0m\u001b[1;33m\u001b[0m\u001b[1;33m\u001b[0m\u001b[0m\n\u001b[0m\u001b[0;32m    322\u001b[0m             response['value'] = self._unwrap_value(\n\u001b[0;32m    323\u001b[0m                 response.get('value', None))\n",
      "\u001b[1;32m~\\Anaconda3\\lib\\site-packages\\selenium\\webdriver\\remote\\errorhandler.py\u001b[0m in \u001b[0;36mcheck_response\u001b[1;34m(self, response)\u001b[0m\n\u001b[0;32m    240\u001b[0m                 \u001b[0malert_text\u001b[0m \u001b[1;33m=\u001b[0m \u001b[0mvalue\u001b[0m\u001b[1;33m[\u001b[0m\u001b[1;34m'alert'\u001b[0m\u001b[1;33m]\u001b[0m\u001b[1;33m.\u001b[0m\u001b[0mget\u001b[0m\u001b[1;33m(\u001b[0m\u001b[1;34m'text'\u001b[0m\u001b[1;33m)\u001b[0m\u001b[1;33m\u001b[0m\u001b[1;33m\u001b[0m\u001b[0m\n\u001b[0;32m    241\u001b[0m             \u001b[1;32mraise\u001b[0m \u001b[0mexception_class\u001b[0m\u001b[1;33m(\u001b[0m\u001b[0mmessage\u001b[0m\u001b[1;33m,\u001b[0m \u001b[0mscreen\u001b[0m\u001b[1;33m,\u001b[0m \u001b[0mstacktrace\u001b[0m\u001b[1;33m,\u001b[0m \u001b[0malert_text\u001b[0m\u001b[1;33m)\u001b[0m\u001b[1;33m\u001b[0m\u001b[1;33m\u001b[0m\u001b[0m\n\u001b[1;32m--> 242\u001b[1;33m         \u001b[1;32mraise\u001b[0m \u001b[0mexception_class\u001b[0m\u001b[1;33m(\u001b[0m\u001b[0mmessage\u001b[0m\u001b[1;33m,\u001b[0m \u001b[0mscreen\u001b[0m\u001b[1;33m,\u001b[0m \u001b[0mstacktrace\u001b[0m\u001b[1;33m)\u001b[0m\u001b[1;33m\u001b[0m\u001b[1;33m\u001b[0m\u001b[0m\n\u001b[0m\u001b[0;32m    243\u001b[0m \u001b[1;33m\u001b[0m\u001b[0m\n\u001b[0;32m    244\u001b[0m     \u001b[1;32mdef\u001b[0m \u001b[0m_value_or_default\u001b[0m\u001b[1;33m(\u001b[0m\u001b[0mself\u001b[0m\u001b[1;33m,\u001b[0m \u001b[0mobj\u001b[0m\u001b[1;33m,\u001b[0m \u001b[0mkey\u001b[0m\u001b[1;33m,\u001b[0m \u001b[0mdefault\u001b[0m\u001b[1;33m)\u001b[0m\u001b[1;33m:\u001b[0m\u001b[1;33m\u001b[0m\u001b[1;33m\u001b[0m\u001b[0m\n",
      "\u001b[1;31mWebDriverException\u001b[0m: Message: chrome not reachable\n  (Session info: chrome=71.0.3578.98)\n  (Driver info: chromedriver=2.45.615291 (ec3682e3c9061c10f26ea9e5cdcf3c53f3f74387),platform=Windows NT 10.0.17134 x86_64)\n"
     ]
    }
   ],
   "source": [
    "from selenium import webdriver\n",
    "import time\n",
    "import json\n",
    "\n",
    "\n",
    "chrome_path = \"C:/selenium_driver_chrome/chromedriver.exe\" #chromedriver.exe執行檔所存在的路徑\n",
    "driver=webdriver.Chrome(chrome_path) # 初始化一個driver，並且指定chromedriver的路徑\n",
    "driver.get(\"https://tw.news.yahoo.com/finance\") # 請求網頁\n",
    "\n",
    "driver.execute_script('window.scrollTo(0, document.body.scrollHeight)')\n",
    "links=driver.find_elements_by_xpath('//*[@id=\"YDC-Stream\"]/ul/li/div/div/div/h3/a')\n",
    "length=len(links)\n",
    "articles=[]\n",
    "\n",
    "for i in range(0,length):   #遍歷列表的循環，使程序可以逐一點擊\n",
    "    time.sleep(3) #等三秒\n",
    "    links=driver.find_elements_by_xpath('//*[@id=\"YDC-Stream\"]/ul/li/div/div/div/h3/a')\n",
    "    url=links[i].get_attribute('href')  #提取a標籤內的鏈接，注意這裏提取出來的鏈接是字符串\n",
    "    strings = url[:29]\n",
    "    if('https://beap.gemini.yahoo.com' == strings or 'https://tw.news.yahoo.com/vid' == strings):  #如果是廣告網址就跳下一個\n",
    "        continue\n",
    "    else:\n",
    "        driver.get(url)         #不能用click，因爲click點擊字符串沒用，直接用瀏覽器打開網址即可\n",
    "        title=driver.find_element_by_xpath('//*[@id=\"Col1-1-HeadComponentTitle\"]/h1').text\n",
    "        print(title)\n",
    "        content=driver.find_element_by_xpath('//*[@id=\"Col1-3-ContentCanvas\"]/article/div').text\n",
    "        print(content.replace(\"\\n\",\"\").replace(\"\\r\",\"\"))       \n",
    "        times=driver.find_element_by_xpath('//*[@id=\"Col1-2-HeadComponentAttribution\"]/div[2]/div[2]/time').text \n",
    "        print(times)\n",
    "        print(url)\n",
    "        print(\"\\n\")\n",
    "        driver.back()\n",
    "        \n",
    "    articles.append({\n",
    "        'title': title,\n",
    "        'content':content,\n",
    "        'times': times,\n",
    "        'URL': url\n",
    "    })\n",
    "    \n",
    "    with open('yahoo.json','w',encoding= 'utf-8') as f:\n",
    "        json.dump(articles,f,indent=2,ensure_ascii=False)\n",
    "driver.quit()"
   ]
  }
 ],
 "metadata": {
  "kernelspec": {
   "display_name": "Python 3",
   "language": "python",
   "name": "python3"
  },
  "language_info": {
   "codemirror_mode": {
    "name": "ipython",
    "version": 3
   },
   "file_extension": ".py",
   "mimetype": "text/x-python",
   "name": "python",
   "nbconvert_exporter": "python",
   "pygments_lexer": "ipython3",
   "version": "3.6.7"
  }
 },
 "nbformat": 4,
 "nbformat_minor": 2
}
